{
 "cells": [
  {
   "cell_type": "markdown",
   "metadata": {},
   "source": [
    "# Entrenamiento"
   ]
  },
  {
   "cell_type": "code",
   "execution_count": null,
   "metadata": {},
   "outputs": [],
   "source": [
    "import pandas as pd\n",
    "import numpy as np\n",
    "import os\n",
    "import matplotlib.pyplot as plt\n",
    "from sklearn.model_selection import train_test_split\n",
    "from sklearn.model_selection import KFold\n",
    "from sklearn.model_selection import cross_val_score\n",
    "\n",
    "### TF-Keras\n",
    "from keras.models import Sequential\n",
    "from keras.layers import Dense\n",
    "from tensorflow.keras.metrics import RootMeanSquaredError\n"
   ]
  },
  {
   "cell_type": "code",
   "execution_count": null,
   "metadata": {},
   "outputs": [],
   "source": [
    "# Actual dir\n",
    "path = \"/dataset\"\n",
    "if path not in os.getcwd():\n",
    "    os.chdir(os.getcwd()+path) \n",
    "print(\"Path actual\",os.getcwd())\n"
   ]
  },
  {
   "cell_type": "code",
   "execution_count": null,
   "metadata": {},
   "outputs": [],
   "source": [
    "#### HIPERPARAMETROS\n",
    "VERBOSE = 0\n",
    "VERBOSE_TRAIN = 0\n",
    "EPOCHS = 50\n",
    "KFOLD = 5\n",
    "BATCH_SIZE = 28 \n",
    "TEST_SIZE = 0.3\n",
    "VAL_SIZE = 0.2\n",
    "\n",
    "FIRST_LAYER = [10,25,50, 75] # Probar con 10, 25, 50 en la primera capa\n",
    "HIDDEN_LAYERS = [[],[5], [5,2]] # Probar sin capa oculta, con 2 neuronas o con 5 y con dos capas ocultas de 5 y 2"
   ]
  },
  {
   "cell_type": "code",
   "execution_count": null,
   "metadata": {},
   "outputs": [],
   "source": [
    "df = pd.read_csv('dataset_entrenamiento.csv', header='infer')\n",
    "Y = df['price']\n",
    "X = df[df.columns.difference(['price'])]\n"
   ]
  },
  {
   "cell_type": "markdown",
   "metadata": {},
   "source": [
    "## Division del conjunto de datos"
   ]
  },
  {
   "cell_type": "code",
   "execution_count": null,
   "metadata": {},
   "outputs": [],
   "source": [
    "X_train, X_test, Y_train, Y_test = train_test_split(X, Y, test_size=TEST_SIZE, random_state=4815)"
   ]
  },
  {
   "cell_type": "code",
   "execution_count": null,
   "metadata": {},
   "outputs": [],
   "source": [
    "print(\"Muestras en train:\",X_train.shape)\n",
    "print(\"Muestras en test:\",X_test.shape)"
   ]
  },
  {
   "cell_type": "markdown",
   "metadata": {},
   "source": [
    "## Regresion con Redes Neuronales (Keras)"
   ]
  },
  {
   "cell_type": "markdown",
   "metadata": {},
   "source": [
    "### Construyendo el modelo"
   ]
  },
  {
   "cell_type": "code",
   "execution_count": null,
   "metadata": {},
   "outputs": [],
   "source": [
    "def create_model(input_dimension, first_layer, hidden_layers = []):\n",
    "    \n",
    "    model = Sequential()\n",
    "    model.add(Dense(first_layer, input_dim=input_dimension, kernel_initializer='normal', activation='relu'))\n",
    "    for n_neural in hidden_layers:\n",
    "        model.add(Dense(n_neural, kernel_initializer='normal', activation='relu'))\n",
    "\n",
    "    # Compile model\n",
    "    model.add(Dense(1, kernel_initializer='normal'))    \n",
    "    if VERBOSE > 0:\n",
    "        print(model.summary())\n",
    "    model.compile(loss='mean_squared_error', optimizer = \"rmsprop\",metrics = [\"RootMeanSquaredError\"])\n",
    "    return model"
   ]
  },
  {
   "cell_type": "markdown",
   "metadata": {},
   "source": [
    "### Ejecutando y testeando el modelo"
   ]
  },
  {
   "cell_type": "code",
   "execution_count": null,
   "metadata": {},
   "outputs": [],
   "source": [
    "### AUX PLOT FUNCTION\n",
    "def plot_train(train,val, ylabel, title):\n",
    "    plt.plot(train)\n",
    "    plt.plot(val)\n",
    "    plt.title(title)\n",
    "    plt.ylabel(ylabel)\n",
    "    plt.xlabel('epoch')\n",
    "    plt.legend(['train', 'test'], loc='upper left')\n",
    "    plt.show()\n",
    "    \n",
    "def testear(X_test, Y_test, model):\n",
    "    print(\"... Test ...\")\n",
    "    Y_pred = model.predict(X_test)\n",
    "    rmse = RootMeanSquaredError(dtype='float64')\n",
    "    print(\"RMSE:\",round(rmse(Y_pred,Y_test).numpy()))\n",
    "    result = pd.DataFrame({\"pred\": Y_pred.flatten(), \"real\": Y_test, \"diferencia\": abs(Y_pred.flatten() - Y_test)})\n",
    "    print(\"Nos equivocamos de media (MAE): \",round(result[\"diferencia\"].sum() / len(result[\"diferencia\"])))  \n",
    "    \n",
    "def kfolds_folds(muestras_por_fold, X_train, Y_train):\n",
    "    distancias = np.zeros(KFOLD) \n",
    "    kfolds = list(range(KFOLD))\n",
    "    for a in range(len(distancias)):\n",
    "        distancias[a]= a * muestras_por_fold\n",
    "    \n",
    "    distancias = np.append(distancias, [X_train.shape[0]])\n",
    "    X_kfolds, Y_kfolds =[], []\n",
    "    \n",
    "    for i in  range(len(distancias)-1):\n",
    "        inicio = int(distancias[i])\n",
    "        fin = int(distancias[i+1])\n",
    "        X_kfolds.append(X_train[inicio:fin])\n",
    "        Y_kfolds.append(Y_train[inicio:fin])\n",
    "\n",
    "    return  X_kfolds, Y_kfolds"
   ]
  },
  {
   "cell_type": "code",
   "execution_count": null,
   "metadata": {},
   "outputs": [],
   "source": [
    "def performace():\n",
    "    for neuronas in FIRST_LAYER:\n",
    "        for hidden in HIDDEN_LAYERS:\n",
    "            print(\" Perfomance of Model with a layer = \", neuronas,\" (n neural) and hidden \", hidden)\n",
    "\n",
    "            input_dimension = X_train.shape[1]\n",
    "            model = create_model(input_dimension, first_layer = neuronas, hidden_layers = hidden)\n",
    "            \n",
    "            if KFOLD > 0:\n",
    "                kfolds = []\n",
    "                muestras_por_fold = round(X_train.shape[0] / KFOLD)\n",
    "                for i in range(0,KFOLD):          \n",
    "                    X_folds, Y_folds = kfolds_folds(muestras_por_fold, X_train, Y_train)\n",
    "                    Y_train_fold = pd.Series([], dtype='float').append(Y_folds[:i]+Y_folds[i+1:])\n",
    "                    X_train_fold = pd.concat(X_folds[:i]+X_folds[i+1:])\n",
    "\n",
    "                    history = model.fit(X_train_fold, Y_train_fold, validation_data=(X_folds[i], Y_folds[i]), \n",
    "                                        epochs=EPOCHS, batch_size=BATCH_SIZE, verbose=VERBOSE_TRAIN)\n",
    "                    title = \"Red neuronal, arquitectura: \"+str(neuronas)+\" \"+ str(hidden)\n",
    "                    RMSE= history.history[\"root_mean_squared_error\"][EPOCHS-1]\n",
    "                    kfolds.append(RMSE)\n",
    "                    print(f\"--- {i+1} folds\")\n",
    "            else:\n",
    "                history = model.fit(X_train, Y_train, validation_split = 0.2, \n",
    "                                    epochs=EPOCHS, batch_size=BATCH_SIZE, verbose=VERBOSE_TRAIN)\n",
    "                title = \"Red neuronal, arquitectura: \"+str(neuronas)+\" \"+ str(hidden)\n",
    "                if VERBOSE > 0:\n",
    "                    plot_train(history.history[\"loss\"], history.history[\"val_loss\"], \"Loss\", title)\n",
    "                    plot_train( history.history[\"root_mean_squared_error\"], history.history[\"val_root_mean_squared_error\"], \"RMSE\", title)\n",
    "                \n",
    "            print(f\"RMSE mean of {KFOLD} KFOLD\", round(np.mean(kfolds)))\n",
    "            testear(X_test,Y_test, model)"
   ]
  },
  {
   "cell_type": "code",
   "execution_count": null,
   "metadata": {},
   "outputs": [],
   "source": [
    "performace()"
   ]
  }
 ],
 "metadata": {
  "kernelspec": {
   "display_name": "Python 3",
   "language": "python",
   "name": "python3"
  },
  "language_info": {
   "codemirror_mode": {
    "name": "ipython",
    "version": 3
   },
   "file_extension": ".py",
   "mimetype": "text/x-python",
   "name": "python",
   "nbconvert_exporter": "python",
   "pygments_lexer": "ipython3",
   "version": "3.8.3"
  }
 },
 "nbformat": 4,
 "nbformat_minor": 4
}
