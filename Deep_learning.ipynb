{
 "cells": [
  {
   "cell_type": "markdown",
   "metadata": {},
   "source": [
    "# Entrenamiento"
   ]
  },
  {
   "cell_type": "code",
   "execution_count": 197,
   "metadata": {},
   "outputs": [],
   "source": [
    "import pandas as pd\n",
    "import numpy as np\n",
    "import os\n",
    "import matplotlib.pyplot as plt\n",
    "from sklearn.model_selection import train_test_split\n",
    "from sklearn.model_selection import KFold\n",
    "from sklearn.model_selection import cross_val_score\n",
    "\n",
    "### TF-Keras\n",
    "from keras.models import Sequential\n",
    "from keras.layers import Dense\n",
    "from tensorflow.keras.metrics import RootMeanSquaredError\n",
    "from keras.callbacks import EarlyStopping\n",
    "from keras.wrappers.scikit_learn import KerasRegressor"
   ]
  },
  {
   "cell_type": "code",
   "execution_count": 198,
   "metadata": {},
   "outputs": [
    {
     "name": "stdout",
     "output_type": "stream",
     "text": [
      "Path actual /home/iciac/Escritorio/CursoIA/Grupo_5/dataset\n"
     ]
    }
   ],
   "source": [
    "# Actual dir\n",
    "path = \"/dataset\"\n",
    "if path not in os.getcwd():\n",
    "    os.chdir(os.getcwd()+path) \n",
    "print(\"Path actual\",os.getcwd())\n"
   ]
  },
  {
   "cell_type": "code",
   "execution_count": 199,
   "metadata": {},
   "outputs": [],
   "source": [
    "#### HIPERPARAMETROS\n",
    "VERBOSE = 1\n",
    "VERBOSE_TRAIN = 0\n",
    "EPOCHS = 50\n",
    "KFOLD = 5\n",
    "BATCH_SIZE = 128 \n",
    "TEST_SIZE = 0.3\n",
    "VAL_SIZE = 0.2\n",
    "\n",
    "FIRST_LAYER = [10,25,50] # Probar con 10, 25, 50 en la primera capa\n",
    "HIDDEN_LAYERS = [[],[2],[5], [5,2]] # Probar sin capa oculta, con 2 neuronas o con 5 y con dos capas ocultas de 5 y 2"
   ]
  },
  {
   "cell_type": "code",
   "execution_count": 200,
   "metadata": {},
   "outputs": [],
   "source": [
    "df = pd.read_csv('dataset_entrenamiento.csv', header='infer')\n",
    "Y = df['price']\n",
    "X = df[df.columns.difference(['price'])]\n"
   ]
  },
  {
   "cell_type": "markdown",
   "metadata": {},
   "source": [
    "## Division del conjunto de datos"
   ]
  },
  {
   "cell_type": "code",
   "execution_count": 201,
   "metadata": {},
   "outputs": [],
   "source": [
    "X_train, X_test, Y_train, Y_test = train_test_split(X, Y, test_size=TEST_SIZE, random_state=4815)\n",
    "X_train, X_val, Y_train, Y_val = train_test_split(X_train, Y_train, test_size=VAL_SIZE, random_state=4815)"
   ]
  },
  {
   "cell_type": "code",
   "execution_count": 202,
   "metadata": {},
   "outputs": [
    {
     "name": "stdout",
     "output_type": "stream",
     "text": [
      "Muestras en train: (60781, 10)\n",
      "Muestras en val: (15196, 10)\n",
      "Muestras en test: (32562, 10)\n"
     ]
    }
   ],
   "source": [
    "print(\"Muestras en train:\",X_train.shape)\n",
    "print(\"Muestras en val:\",X_val.shape)\n",
    "print(\"Muestras en test:\",X_test.shape)"
   ]
  },
  {
   "cell_type": "markdown",
   "metadata": {},
   "source": [
    "## Regresion con Redes Neuronales (Keras)"
   ]
  },
  {
   "cell_type": "markdown",
   "metadata": {},
   "source": [
    "### Construyendo el modelo"
   ]
  },
  {
   "cell_type": "code",
   "execution_count": 203,
   "metadata": {},
   "outputs": [],
   "source": [
    "def create_model(input_dimension, first_layer, hidden_layers = []):\n",
    "    \n",
    "    model = Sequential()\n",
    "    model.add(Dense(first_layer, input_dim=input_dimension, kernel_initializer='normal', activation='relu'))\n",
    "    for n_neural in hidden_layers:\n",
    "        model.add(Dense(n_neural, kernel_initializer='normal', activation='relu'))\n",
    "\n",
    "    # Compile model\n",
    "    model.add(Dense(1, kernel_initializer='normal'))    \n",
    "    if VERBOSE > 0:\n",
    "        print(model.summary())\n",
    "    model.compile(loss='mean_squared_error', optimizer = \"rmsprop\",metrics = [\"RootMeanSquaredError\"])\n",
    "    return model"
   ]
  },
  {
   "cell_type": "markdown",
   "metadata": {},
   "source": [
    "### Ejecutando y testeando el modelo"
   ]
  },
  {
   "cell_type": "code",
   "execution_count": 204,
   "metadata": {},
   "outputs": [],
   "source": [
    "### AUX PLOT FUNCTION\n",
    "def plot_train(train,val, ylabel, title):\n",
    "    plt.plot(train)\n",
    "    plt.plot(val)\n",
    "    plt.title(title)\n",
    "    plt.ylabel(ylabel)\n",
    "    plt.xlabel('epoch')\n",
    "    plt.legend(['train', 'test'], loc='upper left')\n",
    "    plt.show()\n",
    "    \n",
    "def testear(X_test, Y_test, model):\n",
    "    Y_pred = model.predict(X_test)\n",
    "    rmse = RootMeanSquaredError(dtype='float64')\n",
    "    print(\"RMSE:\",round(rmse(Y_pred,Y_test).numpy()))\n",
    "    result = pd.DataFrame({\"pred\": Y_pred.flatten(), \"real\": Y_test, \"diferencia\": abs(Y_pred.flatten() - Y_test)})\n",
    "    print(\"Nos equivocamos de media (MAE): \",round(result[\"diferencia\"].sum() / len(result[\"diferencia\"])))    \n",
    "    \n",
    "def train(model):\n",
    "    estimator = KerasRegressor(build_fn=model, epochs=EPOCH, batch_size=BATCH_SIZE, verbose=0)\n",
    "    kfold = KFold(n_splits=KFOLD, random_state=4815)\n",
    "    results = cross_val_score(estimator, X_train, y_train, cv=kfold)  \n",
    "    print(\"Standardized: %.2f (%.2f) MSE\" % (results.mean(), results.std()))\n",
    "    return estimator"
   ]
  },
  {
   "cell_type": "code",
   "execution_count": 205,
   "metadata": {},
   "outputs": [],
   "source": [
    "def performace():\n",
    "    for neuronas in FIRST_LAYER:\n",
    "        for hidden in HIDDEN_LAYERS:\n",
    "\n",
    "            input_dimension = X_train.shape[1]\n",
    "            model = create_model(input_dimension, first_layer = neuronas, hidden_layers = hidden)\n",
    "            history = model.fit(X_train, Y_train, \n",
    "                                validation_data=(X_val, Y_val), \n",
    "                                epochs=EPOCHS, batch_size=BATCH_SIZE, verbose=VERBOSE_TRAIN)\n",
    "            title = \"Red neuronal, arquitectura: \"+str(neuronas)+\" \"+ str(hidden)\n",
    "            plot_train(history.history[\"loss\"], history.history[\"val_loss\"], \"Loss\", title)\n",
    "            plot_train( history.history[\"root_mean_squared_error\"], history.history[\"val_root_mean_squared_error\"], \"RMSE\", title)\n",
    "            print(\"EPOCH:\",)\n",
    "            testear(X_test,Y_test, model)"
   ]
  },
  {
   "cell_type": "code",
   "execution_count": null,
   "metadata": {},
   "outputs": [
    {
     "name": "stdout",
     "output_type": "stream",
     "text": [
      "Model: \"sequential_52\"\n",
      "_________________________________________________________________\n",
      "Layer (type)                 Output Shape              Param #   \n",
      "=================================================================\n",
      "dense_140 (Dense)            (None, 10)                110       \n",
      "_________________________________________________________________\n",
      "dense_141 (Dense)            (None, 1)                 11        \n",
      "=================================================================\n",
      "Total params: 121\n",
      "Trainable params: 121\n",
      "Non-trainable params: 0\n",
      "_________________________________________________________________\n",
      "None\n"
     ]
    }
   ],
   "source": [
    "performace()"
   ]
  },
  {
   "cell_type": "code",
   "execution_count": null,
   "metadata": {},
   "outputs": [],
   "source": []
  },
  {
   "cell_type": "code",
   "execution_count": null,
   "metadata": {},
   "outputs": [],
   "source": []
  },
  {
   "cell_type": "code",
   "execution_count": null,
   "metadata": {},
   "outputs": [],
   "source": []
  }
 ],
 "metadata": {
  "kernelspec": {
   "display_name": "Python 3",
   "language": "python",
   "name": "python3"
  },
  "language_info": {
   "codemirror_mode": {
    "name": "ipython",
    "version": 3
   },
   "file_extension": ".py",
   "mimetype": "text/x-python",
   "name": "python",
   "nbconvert_exporter": "python",
   "pygments_lexer": "ipython3",
   "version": "3.8.3"
  }
 },
 "nbformat": 4,
 "nbformat_minor": 4
}
