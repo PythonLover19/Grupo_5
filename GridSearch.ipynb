{
 "cells": [
  {
   "cell_type": "code",
   "execution_count": 5,
   "metadata": {},
   "outputs": [],
   "source": [
    "from sklearn.datasets import load_diabetes\n",
    "from sklearn.linear_model import Ridge\n",
    "from sklearn.model_selection import GridSearchCV\n",
    "import os \n"
   ]
  },
  {
   "cell_type": "code",
   "execution_count": 6,
   "metadata": {},
   "outputs": [
    {
     "name": "stdout",
     "output_type": "stream",
     "text": [
      "Path actual C:\\Users\\karen\\Documents\\de_Samsung\\Inteligencia Artificial\\Proyecto_Final\\Datos\n"
     ]
    }
   ],
   "source": [
    "# Actual dir\n",
    "#os.chdir(os.getcwd()+\"/dataset\") \n",
    "print(\"Path actual\",os.getcwd() )"
   ]
  },
  {
   "cell_type": "code",
   "execution_count": 10,
   "metadata": {},
   "outputs": [
    {
     "data": {
      "text/plain": [
       "{'alpha': 0.1,\n",
       " 'copy_X': True,\n",
       " 'fit_intercept': True,\n",
       " 'max_iter': None,\n",
       " 'normalize': False,\n",
       " 'random_state': None,\n",
       " 'solver': 'auto',\n",
       " 'tol': 0.001}"
      ]
     },
     "execution_count": 10,
     "metadata": {},
     "output_type": "execute_result"
    }
   ],
   "source": [
    "\n",
    "X = dataset.data\n",
    "y = dataset.target\n",
    "model = Ridge()\n",
    "params = {'alpha': [1, 0.1, 0.01, 0.001, 0.0001]}\n",
    "grid = GridSearchCV(model, params, cv=10, n_jobs = -1)\n",
    "grid.fit(X, y)\n",
    "grid.best_estimator_.get_params()"
   ]
  },
  {
   "cell_type": "code",
   "execution_count": null,
   "metadata": {},
   "outputs": [],
   "source": [
    "#se utiliza un modelo Ridge en el que se prueban diferentes valores de alpha que se evalúan con GridSearchCV. \n",
    "#vez entrenado el modelo se puede consultar con qué valor de alpha se obtienen los mejores rendimientos. \n",
    "#En este caso el valor es de 0,1."
   ]
  },
  {
   "cell_type": "code",
   "execution_count": null,
   "metadata": {},
   "outputs": [],
   "source": [
    "from sklearn.linear_model import ElasticNet"
   ]
  },
  {
   "cell_type": "code",
   "execution_count": 11,
   "metadata": {},
   "outputs": [
    {
     "data": {
      "text/plain": [
       "{'alpha': 0.0001,\n",
       " 'copy_X': True,\n",
       " 'fit_intercept': True,\n",
       " 'l1_ratio': 0.0001,\n",
       " 'max_iter': 1000,\n",
       " 'normalize': False,\n",
       " 'positive': False,\n",
       " 'precompute': False,\n",
       " 'random_state': None,\n",
       " 'selection': 'cyclic',\n",
       " 'tol': 0.0001,\n",
       " 'warm_start': False}"
      ]
     },
     "execution_count": 11,
     "metadata": {},
     "output_type": "execute_result"
    }
   ],
   "source": [
    "model = ElasticNet()\n",
    "params = {'alpha': [1, 0.1, 0.01, 0.001, 0.0001],\n",
    "          'l1_ratio': [1, 0.1, 0.01, 0.001, 0.0001]}\n",
    "grid = GridSearchCV(model, params, cv=10, n_jobs = -1)\n",
    "grid.fit(X, y)\n",
    "grid.best_estimator_.get_params()"
   ]
  },
  {
   "cell_type": "code",
   "execution_count": null,
   "metadata": {},
   "outputs": [],
   "source": [
    "#se puede probar con diferentes valores para alpha y l1_ratio. \n",
    "#Mediante el mismo proceso se pueden obtener los mejores hiperparametros para este modelo y conjunto de datos. \n",
    "#En esta ocasión son alpha igual a 0,001 y l1_ratio igual a 0,001."
   ]
  },
  {
   "cell_type": "code",
   "execution_count": null,
   "metadata": {},
   "outputs": [],
   "source": []
  }
 ],
 "metadata": {
  "kernelspec": {
   "display_name": "Python 3",
   "language": "python",
   "name": "python3"
  },
  "language_info": {
   "codemirror_mode": {
    "name": "ipython",
    "version": 3
   },
   "file_extension": ".py",
   "mimetype": "text/x-python",
   "name": "python",
   "nbconvert_exporter": "python",
   "pygments_lexer": "ipython3",
   "version": "3.8.3"
  }
 },
 "nbformat": 4,
 "nbformat_minor": 4
}
