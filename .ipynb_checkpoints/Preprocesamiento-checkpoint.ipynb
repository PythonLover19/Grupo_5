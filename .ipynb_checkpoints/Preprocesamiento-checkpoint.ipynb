{
 "cells": [
  {
   "cell_type": "markdown",
   "metadata": {},
   "source": [
    "PROYECTO 1: Predicción del precio de venta de un vehículo de segunda mano en función de sus características"
   ]
  },
  {
   "cell_type": "code",
   "execution_count": 85,
   "metadata": {},
   "outputs": [],
   "source": [
    "import numpy as np\n",
    "import pandas as pd\n",
    "import os "
   ]
  },
  {
   "cell_type": "code",
   "execution_count": null,
   "metadata": {},
   "outputs": [],
   "source": [
    "# Actual dir\n",
    "os.chdir(os.getcwd()+\"/dataset\") \n",
    "print(\"Path actual\",os.getcwd() )"
   ]
  },
  {
   "cell_type": "code",
   "execution_count": 194,
   "metadata": {},
   "outputs": [],
   "source": [
    "########## Funciones auxiliares\n",
    "def mean_tax_mpg_at_nulls(df, model):\n",
    "    df.model = df.model.str.strip()\n",
    "    groupbymarca = df.groupby(by= \"model\", as_index=False).mean()\n",
    "    print(\"Models\",groupbymarca[\"model\"].to_list() )\n",
    "    mean = groupbymarca[groupbymarca.model == model]\n",
    "    tax, mpg  = int(mean.tax.round()), mean.mpg.round(1)\n",
    "    df.loc[(df[\"model\"]==model) & (pd.isnull(df[\"tax\"])) & (pd.isnull(df[\"tax\"])), [\"tax\", \"mpg\"]] = tax, mpg\n",
    "\n",
    "    print(df.isna().sum())\n",
    "    return df\n"
   ]
  },
  {
   "cell_type": "code",
   "execution_count": 195,
   "metadata": {},
   "outputs": [],
   "source": [
    "######### Programa en si"
   ]
  },
  {
   "cell_type": "code",
   "execution_count": 196,
   "metadata": {},
   "outputs": [
    {
     "data": {
      "text/plain": [
       "model           0\n",
       "year            0\n",
       "price           0\n",
       "transmission    0\n",
       "mileage         0\n",
       "fuelType        0\n",
       "tax             0\n",
       "mpg             0\n",
       "engineSize      0\n",
       "brand           0\n",
       "dtype: int64"
      ]
     },
     "execution_count": 196,
     "metadata": {},
     "output_type": "execute_result"
    }
   ],
   "source": [
    "df1 = pd.read_csv('audi.csv', header='infer')\n",
    "df1[\"brand\"]=\"Audi\"\n",
    "df1.isna().sum()"
   ]
  },
  {
   "cell_type": "code",
   "execution_count": 198,
   "metadata": {},
   "outputs": [
    {
     "data": {
      "text/plain": [
       "model           0\n",
       "year            0\n",
       "price           0\n",
       "transmission    0\n",
       "mileage         0\n",
       "fuelType        0\n",
       "tax             0\n",
       "mpg             0\n",
       "engineSize      0\n",
       "brand           0\n",
       "dtype: int64"
      ]
     },
     "execution_count": 198,
     "metadata": {},
     "output_type": "execute_result"
    }
   ],
   "source": [
    "df2 = pd.read_csv('bmw.csv', header='infer')\n",
    "df2[\"brand\"]=\"BMW\"\n",
    "df2.isna().sum()"
   ]
  },
  {
   "cell_type": "code",
   "execution_count": 199,
   "metadata": {},
   "outputs": [
    {
     "name": "stdout",
     "output_type": "stream",
     "text": [
      "Models ['180', '200', '220', '230', 'A Class', 'B Class', 'C Class', 'CL Class', 'CLA Class', 'CLC Class', 'CLK', 'CLS Class', 'E Class', 'G Class', 'GL Class', 'GLA Class', 'GLB Class', 'GLC Class', 'GLE Class', 'GLS Class', 'M Class', 'R Class', 'S Class', 'SL CLASS', 'SLK', 'V Class', 'X-CLASS']\n",
      "model           0\n",
      "year            0\n",
      "price           0\n",
      "transmission    0\n",
      "mileage         0\n",
      "fuelType        0\n",
      "engineSize      0\n",
      "tax             0\n",
      "mpg             0\n",
      "brand           0\n",
      "dtype: int64\n"
     ]
    },
    {
     "name": "stderr",
     "output_type": "stream",
     "text": [
      "/home/iciac/.local/lib/python3.8/site-packages/numpy/core/_asarray.py:83: VisibleDeprecationWarning: Creating an ndarray from ragged nested sequences (which is a list-or-tuple of lists-or-tuples-or ndarrays with different lengths or shapes) is deprecated. If you meant to do this, you must specify 'dtype=object' when creating the ndarray\n",
      "  return array(a, dtype, copy=False, order=order)\n"
     ]
    },
    {
     "data": {
      "text/plain": [
       "model           0\n",
       "year            0\n",
       "price           0\n",
       "transmission    0\n",
       "mileage         0\n",
       "fuelType        0\n",
       "engineSize      0\n",
       "tax             0\n",
       "mpg             0\n",
       "brand           0\n",
       "dtype: int64"
      ]
     },
     "execution_count": 199,
     "metadata": {},
     "output_type": "execute_result"
    }
   ],
   "source": [
    "df3 = pd.read_csv('cclass.csv', header='infer')\n",
    "df7 = pd.read_csv('merc.csv', header='infer')\n",
    "\n",
    "mercedes = pd.concat([df3,df7])\n",
    "mercedes.sort_values(\"model\", inplace = True)\n",
    "mercedes.reset_index(drop=True, inplace=True)\n",
    "mercedes[\"brand\"]=\"Mercedes\"\n",
    "\n",
    "mercedes = mean_tax_mpg_at_nulls(mercedes, \"C Class\")\n",
    "mercedes.isna().sum()"
   ]
  },
  {
   "cell_type": "code",
   "execution_count": 200,
   "metadata": {},
   "outputs": [
    {
     "name": "stdout",
     "output_type": "stream",
     "text": [
      "Models ['B-MAX', 'C-MAX', 'EcoSport', 'Edge', 'Escort', 'Fiesta', 'Focus', 'Fusion', 'Galaxy', 'Grand C-MAX', 'Grand Tourneo Connect', 'KA', 'Ka+', 'Kuga', 'Mondeo', 'Mustang', 'Puma', 'Ranger', 'S-MAX', 'Streetka', 'Tourneo Connect', 'Tourneo Custom', 'Transit Tourneo']\n",
      "model           0\n",
      "year            0\n",
      "price           0\n",
      "transmission    0\n",
      "mileage         0\n",
      "fuelType        0\n",
      "engineSize      0\n",
      "tax             0\n",
      "mpg             0\n",
      "brand           0\n",
      "dtype: int64\n"
     ]
    },
    {
     "data": {
      "text/plain": [
       "model           0\n",
       "year            0\n",
       "price           0\n",
       "transmission    0\n",
       "mileage         0\n",
       "fuelType        0\n",
       "engineSize      0\n",
       "tax             0\n",
       "mpg             0\n",
       "brand           0\n",
       "dtype: int64"
      ]
     },
     "execution_count": 200,
     "metadata": {},
     "output_type": "execute_result"
    }
   ],
   "source": [
    "df4 = pd.read_csv('focus.csv', header='infer')\n",
    "df5 = pd.read_csv('ford.csv', header='infer')\n",
    "\n",
    "ford = pd.concat([df4,df5])\n",
    "ford.sort_values(\"model\", inplace = True)\n",
    "ford.reset_index(drop=True, inplace=True)\n",
    "ford[\"brand\"]=\"Ford\"\n",
    "\n",
    "ford = mean_tax_mpg_at_nulls(ford, \"Focus\")\n",
    "ford.isna().sum()"
   ]
  },
  {
   "cell_type": "code",
   "execution_count": 201,
   "metadata": {},
   "outputs": [
    {
     "data": {
      "text/plain": [
       "model           0\n",
       "year            0\n",
       "price           0\n",
       "transmission    0\n",
       "mileage         0\n",
       "fuelType        0\n",
       "tax(£)          0\n",
       "mpg             0\n",
       "engineSize      0\n",
       "brand           0\n",
       "dtype: int64"
      ]
     },
     "execution_count": 201,
     "metadata": {},
     "output_type": "execute_result"
    }
   ],
   "source": [
    "df6 = pd.read_csv('hyundi.csv', header='infer')\n",
    "df6[\"brand\"]=\"Hyundi\"\n",
    "df6.isna().sum()"
   ]
  },
  {
   "cell_type": "code",
   "execution_count": 202,
   "metadata": {},
   "outputs": [
    {
     "data": {
      "text/plain": [
       "model           0\n",
       "year            0\n",
       "price           0\n",
       "transmission    0\n",
       "mileage         0\n",
       "fuelType        0\n",
       "tax             0\n",
       "mpg             0\n",
       "engineSize      0\n",
       "brand           0\n",
       "dtype: int64"
      ]
     },
     "execution_count": 202,
     "metadata": {},
     "output_type": "execute_result"
    }
   ],
   "source": [
    "df8 = pd.read_csv('skoda.csv', header='infer')\n",
    "df8[\"brand\"]=\"Skoda\"\n",
    "df8.isna().sum()"
   ]
  },
  {
   "cell_type": "code",
   "execution_count": 203,
   "metadata": {},
   "outputs": [
    {
     "data": {
      "text/plain": [
       "model           0\n",
       "year            0\n",
       "price           0\n",
       "transmission    0\n",
       "mileage         0\n",
       "fuelType        0\n",
       "tax             0\n",
       "mpg             0\n",
       "engineSize      0\n",
       "brand           0\n",
       "dtype: int64"
      ]
     },
     "execution_count": 203,
     "metadata": {},
     "output_type": "execute_result"
    }
   ],
   "source": [
    "df9 = pd.read_csv('toyota.csv', header='infer')\n",
    "df9[\"brand\"]=\"Toyota\"\n",
    "df9.isna().sum()"
   ]
  },
  {
   "cell_type": "code",
   "execution_count": 206,
   "metadata": {},
   "outputs": [
    {
     "data": {
      "text/plain": [
       "model           0\n",
       "year            0\n",
       "price           0\n",
       "transmission    0\n",
       "mileage         0\n",
       "fuelType        0\n",
       "tax             0\n",
       "mpg             0\n",
       "engineSize      0\n",
       "brand           0\n",
       "dtype: int64"
      ]
     },
     "execution_count": 206,
     "metadata": {},
     "output_type": "execute_result"
    }
   ],
   "source": [
    "df10 = pd.read_csv('vauxhall.csv', header='infer')\n",
    "df10[\"brand\"]=\"Vauxhall\"\n",
    "df10.isna().sum()"
   ]
  },
  {
   "cell_type": "code",
   "execution_count": 207,
   "metadata": {},
   "outputs": [
    {
     "data": {
      "text/plain": [
       "model           0\n",
       "year            0\n",
       "price           0\n",
       "transmission    0\n",
       "mileage         0\n",
       "fuelType        0\n",
       "tax             0\n",
       "mpg             0\n",
       "engineSize      0\n",
       "brand           0\n",
       "dtype: int64"
      ]
     },
     "execution_count": 207,
     "metadata": {},
     "output_type": "execute_result"
    }
   ],
   "source": [
    "df11 = pd.read_csv('vw.csv', header='infer')\n",
    "df11[\"brand\"]=\"VW\"\n",
    "df11.isna().sum()"
   ]
  }
 ],
 "metadata": {
  "kernelspec": {
   "display_name": "Python 3",
   "language": "python",
   "name": "python3"
  },
  "language_info": {
   "codemirror_mode": {
    "name": "ipython",
    "version": 3
   },
   "file_extension": ".py",
   "mimetype": "text/x-python",
   "name": "python",
   "nbconvert_exporter": "python",
   "pygments_lexer": "ipython3",
   "version": "3.8.3"
  }
 },
 "nbformat": 4,
 "nbformat_minor": 4
}
