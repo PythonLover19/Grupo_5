{
 "cells": [
  {
   "cell_type": "markdown",
   "id": "identical-litigation",
   "metadata": {},
   "source": [
    "# Prepocesamiento"
   ]
  },
  {
   "cell_type": "code",
   "execution_count": 1,
   "id": "loaded-parameter",
   "metadata": {},
   "outputs": [],
   "source": [
    "import pandas as pd\n",
    "import os\n",
    "import numpy as np"
   ]
  },
  {
   "cell_type": "code",
   "execution_count": 2,
   "id": "dominant-kelly",
   "metadata": {},
   "outputs": [
    {
     "name": "stdout",
     "output_type": "stream",
     "text": [
      "Path actual:  /home/iciac/Escritorio/CursoIA/AprendizajeNoSupervisado\n"
     ]
    }
   ],
   "source": [
    "# Actual dir\n",
    "path = \"dataset\"\n",
    "if path not in os.getcwd():\n",
    "    os.chdir(os.getcwd()) \n",
    "\n",
    "path_actual =     os.getcwd()\n",
    "print(\"Path actual: \",path_actual)\n",
    "dataset = pd.read_csv(os.getcwd()+\"/dataset/okcupid_profiles.csv\")"
   ]
  },
  {
   "cell_type": "code",
   "execution_count": 3,
   "id": "environmental-pocket",
   "metadata": {},
   "outputs": [
    {
     "name": "stdout",
     "output_type": "stream",
     "text": [
      "Valores Nulos \n",
      "-----------\n"
     ]
    },
    {
     "data": {
      "text/plain": [
       "age                0\n",
       "status             0\n",
       "sex                0\n",
       "orientation        0\n",
       "body_type       5296\n",
       "diet           24395\n",
       "drinks          2985\n",
       "drugs          14080\n",
       "education       6628\n",
       "ethnicity       5680\n",
       "height             3\n",
       "income             0\n",
       "job             8198\n",
       "last_online        0\n",
       "location           0\n",
       "offspring      35561\n",
       "pets           19921\n",
       "religion       20226\n",
       "sign           11056\n",
       "smokes          5512\n",
       "speaks            50\n",
       "essay0          5488\n",
       "essay1          7572\n",
       "essay2          9638\n",
       "essay3         11476\n",
       "essay4         10537\n",
       "essay5         10850\n",
       "essay6         13771\n",
       "essay7         12451\n",
       "essay8         19225\n",
       "essay9         12603\n",
       "dtype: int64"
      ]
     },
     "execution_count": 3,
     "metadata": {},
     "output_type": "execute_result"
    }
   ],
   "source": [
    "print(\"Valores Nulos \\n-----------\")\n",
    "dataset.isna().sum()"
   ]
  },
  {
   "cell_type": "markdown",
   "id": "stable-native",
   "metadata": {},
   "source": [
    "## Variables\n"
   ]
  },
  {
   "cell_type": "markdown",
   "id": "sized-closure",
   "metadata": {},
   "source": [
    "### Categoricas \n",
    "\n",
    "**Obligatorias (Separar en datasets)** \n",
    "- Homosexual mujer (Bisexual mujer)\n",
    "- Homosexual hombre (Bisuxeal hombre)\n",
    "- Heterosexuales (Bisexual)\n",
    "\n",
    "En todas podemos borrar sex menos en heterosexual\n"
   ]
  },
  {
   "cell_type": "code",
   "execution_count": 4,
   "id": "greatest-planning",
   "metadata": {},
   "outputs": [
    {
     "data": {
      "text/plain": [
       "array(['m', 'f'], dtype=object)"
      ]
     },
     "execution_count": 4,
     "metadata": {},
     "output_type": "execute_result"
    }
   ],
   "source": [
    "dataset[\"sex\"].unique()"
   ]
  },
  {
   "cell_type": "code",
   "execution_count": 6,
   "id": "configured-samuel",
   "metadata": {},
   "outputs": [
    {
     "data": {
      "text/plain": [
       "array(['straight', 'bisexual', 'gay'], dtype=object)"
      ]
     },
     "execution_count": 6,
     "metadata": {},
     "output_type": "execute_result"
    }
   ],
   "source": [
    "dataset[\"orientation\"].unique()"
   ]
  },
  {
   "cell_type": "code",
   "execution_count": 6,
   "id": "injured-apple",
   "metadata": {},
   "outputs": [
    {
     "name": "stderr",
     "output_type": "stream",
     "text": [
      "/home/iciac/.local/lib/python3.8/site-packages/pandas/core/frame.py:4163: SettingWithCopyWarning: \n",
      "A value is trying to be set on a copy of a slice from a DataFrame\n",
      "\n",
      "See the caveats in the documentation: https://pandas.pydata.org/pandas-docs/stable/user_guide/indexing.html#returning-a-view-versus-a-copy\n",
      "  return super().drop(\n"
     ]
    }
   ],
   "source": [
    "homosexual_f = dataset[(\"f\" == dataset[\"sex\"]) & (dataset[\"orientation\"].isin([\"bisexual\", \"gay\"]))]\n",
    "homosexual_h = dataset[(\"m\" == dataset[\"sex\"]) & (dataset[\"orientation\"].isin([\"bisexual\", \"gay\"]))]\n",
    "heterosexual = dataset[(dataset[\"orientation\"].isin([\"bisexual\", \"straight\"]))]\n",
    "\n",
    "homosexual_f.drop(columns = [\"sex\",\"orientation\"], inplace = True)\n",
    "homosexual_h.drop(columns = [\"sex\",\"orientation\"], inplace = True)\n",
    "heterosexual.drop(columns = [\"orientation\"], inplace = True)\n",
    "\n",
    "homosexual_f.to_csv(path_actual+\"/dataset/homosexualf.csv\", index= False)\n",
    "homosexual_h.to_csv(path_actual+\"/dataset/homosexualh.csv\", index= False)\n",
    "heterosexual.to_csv(path_actual+\"/dataset/heterosexual.csv\", index= False)"
   ]
  },
  {
   "cell_type": "code",
   "execution_count": null,
   "id": "tight-charge",
   "metadata": {},
   "outputs": [],
   "source": []
  }
 ],
 "metadata": {
  "kernelspec": {
   "display_name": "Python 3",
   "language": "python",
   "name": "python3"
  },
  "language_info": {
   "codemirror_mode": {
    "name": "ipython",
    "version": 3
   },
   "file_extension": ".py",
   "mimetype": "text/x-python",
   "name": "python",
   "nbconvert_exporter": "python",
   "pygments_lexer": "ipython3",
   "version": "3.8.3"
  }
 },
 "nbformat": 4,
 "nbformat_minor": 5
}
